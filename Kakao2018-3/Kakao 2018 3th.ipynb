{
 "cells": [
  {
   "cell_type": "markdown",
   "metadata": {},
   "source": [
    "**카카오 신입 공채 3차 코딩 테스트**\n",
    "\n",
    "문제3. 파일명 정렬"
   ]
  },
  {
   "cell_type": "markdown",
   "metadata": {},
   "source": [
    "세 차례의 코딩 테스트와 두 차례의 면접이라는 기나긴 블라인드 공채를 무사히 통과해 카카오에 입사한 무지는 파일 저장소 서버 관리를 맡게 되었다.\n",
    "\n",
    "저장소 서버에는 프로그램의 과거 버전을 모두 담고 있어, 이름 순으로 정렬된 파일 목록은 보기가 불편했다. \n",
    "\n",
    "파일을 이름 순으로 정렬하면 나중에 만들어진 ver-10.zip이 ver-9.zip보다 먼저 표시되기 때문이다.\n",
    "\n",
    "버전 번호 외에도 숫자가 포함된 파일 목록은 여러 면에서 관리하기 불편했다. 예컨대 파일 목록이 [“img12.png”, “img10.png”, “img2.png”, “img1.png”]일 경우, 일반적인 정렬은 [“img1.png”, “img10.png”, “img12.png”, “img2.png”] 순이 되지만, 숫자 순으로 정렬된 [“img1.png”, “img2.png”, “img10.png”, img12.png”] 순이 훨씬 자연스럽다."
   ]
  },
  {
   "cell_type": "markdown",
   "metadata": {},
   "source": [
    "무지는 단순한 문자 코드 순이 아닌, 파일명에 포함된 숫자를 반영한 정렬 기능을 저장소 관리 프로그램에 구현하기로 했다.\n",
    "\n",
    "소스 파일 저장소에 저장된 파일명은 100 글자 이내로, 영문 대소문자, 숫자, 공백(“ “), 마침표(“.”), 빼기 부호(“-“)만으로 이루어져 있다. 파일명은 영문자로 시작하며, 숫자를 하나 이상 포함하고 있다.\n",
    "\n",
    "파일명은 크게 HEAD, NUMBER, TAIL의 세 부분으로 구성된다."
   ]
  },
  {
   "cell_type": "markdown",
   "metadata": {},
   "source": [
    "|      파일명      | HEAD | NUMBER |     TAIL    |\n",
    "|:----------------:|:----:|:------:|:-----------:|\n",
    "| foo9.txt         | foo  | 9      | .txt        |\n",
    "| foo010bar020.zip | foo  | 010    | bar020.zip  |\n",
    "| F-15             | F-   | 15     | (빈 문자열) |"
   ]
  },
  {
   "cell_type": "markdown",
   "metadata": {},
   "source": [
    "파일명을 세 부분으로 나눈 후, 다음 기준에 따라 파일명을 정렬한다.\n",
    "\n",
    "* 파일명은 우선 HEAD 부분을 기준으로 사전 순으로 정렬한다. 이때, 문자열 비교 시 대소문자 구분을 하지 않는다. MUZI와 muzi, MuZi는 정렬 시에 같은 순서로 취급된다.\n",
    "\n",
    "* 파일명의 HEAD 부분이 대소문자 차이 외에는 같을 경우, NUMBER의 숫자 순으로 정렬한다. 9 < 10 < 0011 < 012 < 13 < 014 순으로 정렬된다. 숫자 앞의 0은 무시되며, 012와 12는 정렬 시에 같은 같은 값으로 처리된다.\n",
    "\n",
    "* 두 파일의 HEAD 부분과, NUMBER의 숫자도 같을 경우, 원래 입력에 주어진 순서를 유지한다. MUZI01.zip과 muzi1.png가 입력으로 들어오면, 정렬 후에도 입력 시 주어진 두 파일의 순서가 바뀌어서는 안 된다.\n",
    "\n",
    "무지를 도와 파일명 정렬 프로그램을 구현하라."
   ]
  },
  {
   "cell_type": "markdown",
   "metadata": {},
   "source": [
    "**입력 형식**\n",
    "\n",
    "입력으로 배열 files가 주어진다.\n",
    "\n",
    "* files는 1000 개 이하의 파일명을 포함하는 문자열 배열이다.\n",
    "\n",
    "* 각 파일명은 100 글자 이하 길이로, 영문 대소문자, 숫자, 공백(“ “), 마침표(“.”), 빼기 부호(“-“)만으로 이루어져 있다. 파일명은 영문자로 시작하며, 숫자를 하나 이상 포함하고 있다.\n",
    "\n",
    "* 중복된 파일명은 없으나, 대소문자나 숫자 앞부분의 0 차이가 있는 경우는 함께 주어질 수 있다. (muzi1.txt, MUZI1.txt, muzi001.txt, muzi1.TXT는 함께 입력으로 주어질 수 있다.)"
   ]
  },
  {
   "cell_type": "markdown",
   "metadata": {},
   "source": [
    "**출력 형식**\n",
    "\n",
    "위 기준에 따라 정렬된 배열을 출력한다."
   ]
  },
  {
   "cell_type": "markdown",
   "metadata": {},
   "source": [
    "**입출력 예제**\n",
    "\n",
    "입력: [\"img12.png\", \"img10.png\", \"img02.png\", \"img1.png\", \"IMG01.GIF\", \"img2.JPG\"]\n",
    "\n",
    "출력: [\"img1.png\", \"IMG01.GIF\", \"img02.png\", \"img2.JPG\", \"img10.png\", \"img12.png\"]\n",
    "\n",
    "\n",
    "입력: [\"F-5 Freedom Fighter\", \"B-50 Superfortress\", \"A-10 Thunderbolt II\", \"F-14 Tomcat\"]\n",
    "\n",
    "출력: [\"A-10 Thunderbolt II\", \"B-50 Superfortress\", \"F-5 Freedom Fighter\", \"F-14 Tomcat\"]"
   ]
  },
  {
   "cell_type": "markdown",
   "metadata": {},
   "source": [
    "**문제 해설**\n",
    "\n",
    "코딩의 기초 문제라고 할 수 있는 정렬 문제입니다. 하지만 조건은 꽤나 복합적입니다. 파일명을 세 부분으로 나눠, 첫 부분은 대소문자 구분 없이Case Insensitive, 다음 부분은 숫자 값에 따라Numerical 정렬해야 합니다. 또한 정렬 기준에 따라 차이가 없다면 원래 입력에서 주어진 순서를 유지하는 안정 정렬Stable Sort을 사용해야 합니다. 정렬 문제를 풀 때 한 번씩은 다 해보셨죠? 그런데 이걸 어떻게 꿰어서 하나의 프로그램으로 만들어야 할지 어려워하시더군요.\n",
    "\n",
    "여러 정렬 알고리즘을 배우셨을 텐데요. 이 중에 안정 정렬이 어떤 건지 알고 계신가요? 빠른 정렬 알고리즘으로 가장 유명한 퀵 정렬Quick Sort는 아쉽게도 안정 정렬이 아닙니다. 효율이 좋은 O(n log n) 복잡도의 정렬 알고리즘 중에는 병합 정렬Merge Sort 등 일부 알고리즘은 안정 정렬이고요. 효율이 떨어지는 O(n2) 복잡도의 알고리즘 중 버블 정렬Bubble Sort과 삽입 정렬Insertion Sort은 모두 안정 정렬입니다. 여러분이 아는 다른 알고리즘도 안정 정렬인지 아닌지 확인해보세요. 알고리즘의 구현 방법에 따라 같은 알고리즘이라도 안정 정렬이거나 아닐 수도 있습니다.\n",
    "\n",
    "정렬 문제가 워낙 많이 쓰이므로 많은 프로그래밍 언어에서 정렬 알고리즘을 기본 함수로 제공하고 있습니다. 자신이 사용하는 프로그래밍 언어에서 안정 정렬 알고리즘을 제공해주는지 알아두시는 게 좋습니다. 코딩 테스트에서 사용된 프로그래밍 언어 중 C++과 Python에는 안정 정렬이 있고, Java와 JavaScript, Swift에는 안정 정렬이 없습니다. PHP 언어는 숫자 값을 고려해 정렬하는 natsort()를 기본 함수로 제공하기도 합니다. (아쉽게도 문제 3과 조건이 달라 그대로는 쓸 수 없지만요.)\n",
    "\n",
    "기본 정렬 함수가 안정 정렬을 지원하지 않거나, 이 문제처럼 비교 조건이 까다로운 경우에는 decorate-sort-undecorate 패턴을 이용해서 쉽게 해결할 수도 있답니다.\n",
    "\n",
    "이 문제의 정답률은 66.95%였습니다. 언어별로는 C++과 Python 사용자들이 힘들어했습니다. 안정 정렬을 지원해주는 언어인데 도움이 안 되었나 봅니다."
   ]
  },
  {
   "cell_type": "code",
   "execution_count": null,
   "metadata": {},
   "outputs": [],
   "source": [
    "print(\"\"\"해야할 일을 나누기\n",
    "1. 배열 순환\n",
    "2. 문자열 타입 원소 HEAD, NUMBER, TAIL 구분\n",
    "3. Case Insensitive 적용, 문자열을 숫자로 변환\n",
    "4. 2가지 조건을 이용하여 정렬(안정 정렬 사용)\n",
    "5. 리스트 출력\"\"\")"
   ]
  },
  {
   "cell_type": "code",
   "execution_count": null,
   "metadata": {},
   "outputs": [],
   "source": [
    "# 입력, 출력 변수 초기화\n",
    "files1 = [\"img12.png\", \"img10.png\", \"img02.png\", \"img1.png\", \"IMG01.GIF\", \"img2.JPG\"]\n",
    "files1_expected = [\"img1.png\", \"IMG01.GIF\", \"img02.png\", \"img2.JPG\", \"img10.png\", \"img12.png\"]\n",
    "\n",
    "files2 = [\"F-5 Freedom Fighter\", \"B-50 Superfortress\", \"A-10 Thunderbolt II\", \"F-14 Tomcat\"]\n",
    "files2_expected = [\"A-10 Thunderbolt II\", \"B-50 Superfortress\", \"F-5 Freedom Fighter\", \"F-14 Tomcat\"]"
   ]
  },
  {
   "cell_type": "code",
   "execution_count": null,
   "metadata": {},
   "outputs": [],
   "source": [
    "# 배열 순환\n",
    "for entry in files1:\n",
    "    print(entry)"
   ]
  },
  {
   "cell_type": "code",
   "execution_count": null,
   "metadata": {},
   "outputs": [],
   "source": [
    "# 문자열 -> (HEAD, NUMBER, TAIL) 함수\n",
    "import re\n",
    "\n",
    "\n",
    "def split_head_number_tail(target):\n",
    "    number = re.findall(r'(\\d+)', target)[0]\n",
    "    number_sindex = target.find(number)\n",
    "    number_eindex = number_sindex + len(number)\n",
    "    head = target[:number_sindex]\n",
    "    number = target[number_sindex:number_eindex]\n",
    "    tail = target[number_eindex:]\n",
    "\n",
    "    return head, number, tail\n",
    "\n",
    "\n",
    "for entry in files1:\n",
    "    print(split_head_number_tail(entry))"
   ]
  },
  {
   "cell_type": "code",
   "execution_count": null,
   "metadata": {},
   "outputs": [],
   "source": [
    "# Case insensitive, 문자열 -> 숫자\n",
    "\n",
    "\n",
    "def append_incase_int(target):\n",
    "    return target[0], target[1], target[2], target[0].lower(), int(target[1])\n",
    "\n",
    "\n",
    "for entry in files1:\n",
    "    data = split_head_number_tail(entry)\n",
    "    data = append_incase_int(data)\n",
    "    print(data)"
   ]
  },
  {
   "cell_type": "code",
   "execution_count": null,
   "metadata": {},
   "outputs": [],
   "source": [
    "# 2가지 조건을 활용하여 정렬(안정 정렬)\n",
    "# python은 안정 정렬이 기본\n",
    "from operator import itemgetter\n",
    "\n",
    "\n",
    "processing_list = list()\n",
    "for entry in files1:\n",
    "    data = split_head_number_tail(entry)\n",
    "    data = append_incase_int(data)\n",
    "    processing_list.append(data)\n",
    "    \n",
    "\n",
    "processing_list.sort(key=itemgetter(3, 4))\n",
    "print(processing_list)"
   ]
  },
  {
   "cell_type": "code",
   "execution_count": null,
   "metadata": {},
   "outputs": [],
   "source": [
    "# 불필요한 것 제거\n",
    "from operator import itemgetter\n",
    "\n",
    "\n",
    "processing_list = list()\n",
    "for entry in files1:\n",
    "    data = split_head_number_tail(entry)\n",
    "    data = append_incase_int(data)\n",
    "    processing_list.append(data)\n",
    "\n",
    "processing_list.sort(key=itemgetter(3, 4))\n",
    "\n",
    "for index in range(0, len(processing_list)):\n",
    "    processing_list[index] = ''.join(processing_list[index][0:3])\n",
    "\n",
    "print(processing_list)\n",
    "print(\"결과: {0}\".format(processing_list == files1_expected))"
   ]
  }
 ],
 "metadata": {
  "kernelspec": {
   "display_name": "Python 3",
   "language": "python",
   "name": "python3"
  },
  "language_info": {
   "codemirror_mode": {
    "name": "ipython",
    "version": 3
   },
   "file_extension": ".py",
   "mimetype": "text/x-python",
   "name": "python",
   "nbconvert_exporter": "python",
   "pygments_lexer": "ipython3",
   "version": "3.7.0"
  }
 },
 "nbformat": 4,
 "nbformat_minor": 2
}
