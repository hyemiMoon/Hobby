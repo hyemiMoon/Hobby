{
 "cells": [
  {
   "cell_type": "code",
   "execution_count": null,
   "metadata": {},
   "outputs": [],
   "source": [
    "# open database connector\n",
    "\n",
    "import sqlite3\n",
    "\n",
    "conn = sqlite3.connect('fitcraft.db')"
   ]
  },
  {
   "cell_type": "code",
   "execution_count": null,
   "metadata": {},
   "outputs": [],
   "source": [
    "%matplotlib inline\n",
    "\n",
    "import sys\n",
    "import matplotlib\n",
    "import matplotlib.pyplot as plt\n",
    "import numpy as np\n",
    "import sqlite3\n",
    "\n",
    "matplotlib.rcParams['figure.dpi'] = 150\n",
    "\n",
    "cursor = conn.cursor()\n",
    "\n",
    "cursor.execute(('SELECT '\n",
    "              + 'strftime(\"%w\", datetime(datetime, \"unixepoch\")) '\n",
    "              + 'as week, user, sum(value) '\n",
    "              + 'FROM steps WHERE user LIKE \"A%\" '\n",
    "              + 'GROUP BY week, user '\n",
    "              + 'ORDER BY user ASC, week ASC'))\n",
    "data = cursor.fetchall()\n",
    "\n",
    "count = 0\n",
    "x_axis = list()\n",
    "y_axis = list()\n",
    "for row in data:\n",
    "    x_axis.append(row[0])\n",
    "    y_axis.append(row[2])\n",
    "    count = count + 1\n",
    "    if count == 7:\n",
    "        plt.bar(x_axis, y_axis, alpha = 0.5)\n",
    "        x_axis.clear()\n",
    "        y_axis.clear()\n",
    "        count = 0\n",
    "        \n",
    "plt.xticks(range(0, 7),\n",
    "           ['Sun', 'Mon', 'Tue', 'Wed', 'Thu', 'Fri', 'Sat'])\n",
    "plt.xlabel('Day of Week')\n",
    "plt.ylabel('The sum of steps for 3 weeks')\n",
    "plt.title('The steps by users(Group A)')\n",
    "plt.show()"
   ]
  }
 ],
 "metadata": {
  "kernelspec": {
   "display_name": "Python 3",
   "language": "python",
   "name": "python3"
  },
  "language_info": {
   "codemirror_mode": {
    "name": "ipython",
    "version": 3
   },
   "file_extension": ".py",
   "mimetype": "text/x-python",
   "name": "python",
   "nbconvert_exporter": "python",
   "pygments_lexer": "ipython3",
   "version": "3.6.4"
  }
 },
 "nbformat": 4,
 "nbformat_minor": 2
}
