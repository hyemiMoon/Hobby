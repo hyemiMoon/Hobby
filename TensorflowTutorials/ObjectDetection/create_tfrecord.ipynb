{
 "cells": [
  {
   "cell_type": "markdown",
   "metadata": {},
   "source": [
    "# Object detection using Tensorflow Object Detection API\n",
    "\n",
    "### [Reference](https://github.com/tensorflow/models/blob/master/research/object_detection/object_detection_tutorial.ipynb)"
   ]
  },
  {
   "cell_type": "code",
   "execution_count": null,
   "metadata": {},
   "outputs": [],
   "source": [
    "import os\n",
    "from PIL import Image\n",
    "import io\n",
    "import csv\n",
    "import tensorflow as tf"
   ]
  },
  {
   "cell_type": "code",
   "execution_count": null,
   "metadata": {},
   "outputs": [],
   "source": [
    "def create_tf_example(info):\n",
    "    \n",
    "    image = Image.open(info['path'])\n",
    "    \n",
    "    height = image.height # Image height\n",
    "    width = image.width # Image width\n",
    "    filename = os.path.basename(info['path']).encode('utf-8') # Filename of the image. Empty if image is not from file\n",
    "    with io.BytesIO() as output:\n",
    "        image.save(output, image.format)\n",
    "        encoded_image_data = output.getvalue() # Encoded image bytes\n",
    "    image_format = image.format.lower().encode('utf-8') # b'jpeg' or b'png'\n",
    "\n",
    "    xmins = int(info['xmin'])/width # List of normalized left x coordinates in bounding box (1 per box)\n",
    "    xmaxs = int(info['xmax'])/width # List of normalized right x coordinates in bounding box # (1 per box)\n",
    "    ymins = int(info['ymin'])/height # List of normalized top y coordinates in bounding box (1 per box)\n",
    "    ymaxs = int(info['ymax'])/height # List of normalized bottom y coordinates in bounding box # (1 per box)\n",
    "    classes_text = info['label'].encode('utf-8') # List of string class name of bounding box (1 per box)\n",
    "    classes = int(info['idx']) # List of integer class id of bounding box (1 per box)\n",
    "\n",
    "    tf_example = tf.train.Example(features=tf.train.Features(feature={\n",
    "      'image/height': tf.train.Feature(int64_list=tf.train.Int64List(value=[height])),\n",
    "      'image/width': tf.train.Feature(int64_list=tf.train.Int64List(value=[width])),\n",
    "      'image/filename': tf.train.Feature(bytes_list=tf.train.BytesList(value=[filename])),\n",
    "      'image/source_id': tf.train.Feature(bytes_list=tf.train.BytesList(value=[filename])),\n",
    "      'image/encoded': tf.train.Feature(bytes_list=tf.train.BytesList(value=[encoded_image_data])),\n",
    "      'image/format': tf.train.Feature(bytes_list=tf.train.BytesList(value=[image_format])),\n",
    "      'image/object/bbox/xmin': tf.train.Feature(float_list=tf.train.FloatList(value=[xmins])),\n",
    "      'image/object/bbox/xmax': tf.train.Feature(float_list=tf.train.FloatList(value=[xmaxs])),\n",
    "      'image/object/bbox/ymin': tf.train.Feature(float_list=tf.train.FloatList(value=[ymins])),\n",
    "      'image/object/bbox/ymax': tf.train.Feature(float_list=tf.train.FloatList(value=[ymaxs])),\n",
    "      'image/object/class/text': tf.train.Feature(bytes_list=tf.train.BytesList(value=[classes_text])),\n",
    "      'image/object/class/label': tf.train.Feature(int64_list=tf.train.Int64List(value=[classes])),\n",
    "    }))\n",
    "    \n",
    "    return tf_example"
   ]
  },
  {
   "cell_type": "code",
   "execution_count": null,
   "metadata": {},
   "outputs": [],
   "source": [
    "# tf_record_output_filenames = [\n",
    "#     '{}-{:05d}-of-{:05d}'.format(base_path, idx, num_shards)\n",
    "#     for idx in range(num_shards)\n",
    "# ]\n",
    "# tfrecords = [\n",
    "#     exit_stack.enter_context(tf.python_io.TFRecordWriter(file_name))\n",
    "#     for file_name in tf_record_output_filenames\n",
    "# ]\n",
    "# with contextlib2.ExitStack() as tf_record_close_stack:\n",
    "#     output_tfrecords = tf_record_creation_util.open_sharded_output_tfrecords(\n",
    "#         tf_record_close_stack, output_filebase, num_shards)\n",
    "#     for index, example in examples:\n",
    "#         tf_example = create_tf_example(example)\n",
    "#         output_shard_index = index % num_shards\n",
    "#         output_tfrecords[output_shard_index].write(tf_example.SerializeToString())"
   ]
  },
  {
   "cell_type": "code",
   "execution_count": null,
   "metadata": {},
   "outputs": [],
   "source": [
    "l = list()\n",
    "with open('annotation.csv', 'r') as f:\n",
    "    reader = csv.DictReader(f)\n",
    "    for row in reader:\n",
    "        l.append(create_tf_example(row))"
   ]
  },
  {
   "cell_type": "code",
   "execution_count": null,
   "metadata": {},
   "outputs": [],
   "source": [
    "with tf.io.TFRecordWriter('data.tfrecords') as file_writer:\n",
    "    for e in l:\n",
    "        file_writer.write(e.SerializeToString())"
   ]
  },
  {
   "cell_type": "code",
   "execution_count": null,
   "metadata": {},
   "outputs": [],
   "source": []
  }
 ],
 "metadata": {
  "kernelspec": {
   "display_name": "Python 3",
   "language": "python",
   "name": "python3"
  },
  "language_info": {
   "codemirror_mode": {
    "name": "ipython",
    "version": 3
   },
   "file_extension": ".py",
   "mimetype": "text/x-python",
   "name": "python",
   "nbconvert_exporter": "python",
   "pygments_lexer": "ipython3",
   "version": "3.7.7"
  }
 },
 "nbformat": 4,
 "nbformat_minor": 4
}
